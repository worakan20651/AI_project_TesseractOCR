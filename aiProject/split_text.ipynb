{
 "cells": [
  {
   "cell_type": "code",
   "execution_count": 2,
   "metadata": {},
   "outputs": [
    {
     "name": "stdout",
     "output_type": "stream",
     "text": [
      "Processing completed. New file 'my2.txt' created.\n"
     ]
    }
   ],
   "source": [
    "# Define the input and output file names\n",
    "input_file = \"../langdata/tha.training_text\"\n",
    "output_file = \"tha.training_text\"\n",
    "\n",
    "# Open the input file for reading and the output file for writing\n",
    "with open(input_file, \"r\") as input_f, open(output_file, \"w\") as output_f:\n",
    "    # Read lines from the input file\n",
    "    lines = input_f.readlines()\n",
    "\n",
    "    # Process and write each line to the output file\n",
    "    for line in lines:\n",
    "        # Remove leading and trailing whitespace (e.g., newline characters)\n",
    "        line = line.strip()\n",
    "\n",
    "        # Ensure each line contains exactly 100 characters\n",
    "        if len(line) > 100:\n",
    "            # If a line has more than 100 characters, truncate it to 100 characters\n",
    "            line = line[:100]\n",
    "        elif len(line) < 100:\n",
    "            # If a line has less than 100 characters, pad it with spaces\n",
    "            line = line.ljust(100)\n",
    "\n",
    "        # Write the processed line to the output file\n",
    "        output_f.write(line + \"\\n\")\n",
    "\n",
    "print(\"Processing completed. New file 'my2.txt' created.\")\n"
   ]
  }
 ],
 "metadata": {
  "kernelspec": {
   "display_name": "Python 3",
   "language": "python",
   "name": "python3"
  },
  "language_info": {
   "codemirror_mode": {
    "name": "ipython",
    "version": 3
   },
   "file_extension": ".py",
   "mimetype": "text/x-python",
   "name": "python",
   "nbconvert_exporter": "python",
   "pygments_lexer": "ipython3",
   "version": "3.8.10"
  }
 },
 "nbformat": 4,
 "nbformat_minor": 2
}
