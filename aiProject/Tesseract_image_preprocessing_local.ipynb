{
 "cells": [
  {
   "cell_type": "markdown",
   "metadata": {
    "id": "pEyE1cCOdACa"
   },
   "source": [
    "## Optical Character Recognition (OCR)\n",
    "\n",
    "                            OCR\n",
    "                             |\n",
    "                      ------- ---------\n",
    "                      |               | \n",
    "                Online Text      Offline Text\n",
    "                                      |\n",
    "                               ------- ---------\n",
    "                               |               | \n",
    "                            Typed Text      Handwritten Text"
   ]
  },
  {
   "cell_type": "code",
   "execution_count": 2,
   "metadata": {
    "id": "tra7zZvrnMZc"
   },
   "outputs": [
    {
     "name": "stderr",
     "output_type": "stream",
     "text": [
      "/home/seenam/.local/lib/python3.8/site-packages/fuzzywuzzy/fuzz.py:11: UserWarning: Using slow pure-python SequenceMatcher. Install python-Levenshtein to remove this warning\n",
      "  warnings.warn('Using slow pure-python SequenceMatcher. Install python-Levenshtein to remove this warning')\n"
     ]
    }
   ],
   "source": [
    "import asrtoolkit\n",
    "from asrtoolkit import wer, cer\n",
    "import cv2\n",
    "import io\n",
    "import numpy as np\n",
    "from PIL import Image\n",
    "import pytesseract\n",
    "import sys\n",
    "import os\n",
    "from fuzzywuzzy import fuzz\n",
    "from fuzzywuzzy import process"
   ]
  },
  {
   "cell_type": "markdown",
   "metadata": {
    "id": "ADB_d7xFfy5Z"
   },
   "source": [
    "## Files paths"
   ]
  },
  {
   "cell_type": "code",
   "execution_count": 3,
   "metadata": {},
   "outputs": [
    {
     "name": "stdout",
     "output_type": "stream",
     "text": [
      "This Directory /home/hwan/code/aiProject\n",
      "/home/hwan/code\n",
      "/home/hwan\n",
      "/home/hwan/code\n",
      "My_hand_Trained_data None\n"
     ]
    },
    {
     "ename": "TypeError",
     "evalue": "expected str, bytes or os.PathLike object, not NoneType",
     "output_type": "error",
     "traceback": [
      "\u001b[0;31m---------------------------------------------------------------------------\u001b[0m",
      "\u001b[0;31mTypeError\u001b[0m                                 Traceback (most recent call last)",
      "\u001b[1;32m/home/hwan/code/aiProject/Tesseract_image_preprocessing_local.ipynb Cell 4\u001b[0m line \u001b[0;36m1\n\u001b[1;32m     <a href='vscode-notebook-cell://wsl%2Bubuntu-20.04/home/hwan/code/aiProject/Tesseract_image_preprocessing_local.ipynb#W3sdnNjb2RlLXJlbW90ZQ%3D%3D?line=9'>10</a>\u001b[0m out_path_myhand \u001b[39m=\u001b[39m os\u001b[39m.\u001b[39mgetenv(\u001b[39m\"\u001b[39m\u001b[39mLOCAL_PATH\u001b[39m\u001b[39m\"\u001b[39m)\n\u001b[1;32m     <a href='vscode-notebook-cell://wsl%2Bubuntu-20.04/home/hwan/code/aiProject/Tesseract_image_preprocessing_local.ipynb#W3sdnNjb2RlLXJlbW90ZQ%3D%3D?line=10'>11</a>\u001b[0m \u001b[39mprint\u001b[39m(\u001b[39m\"\u001b[39m\u001b[39mMy_hand_Trained_data\u001b[39m\u001b[39m\"\u001b[39m,out_path_myhand)\n\u001b[0;32m---> <a href='vscode-notebook-cell://wsl%2Bubuntu-20.04/home/hwan/code/aiProject/Tesseract_image_preprocessing_local.ipynb#W3sdnNjb2RlLXJlbW90ZQ%3D%3D?line=11'>12</a>\u001b[0m out_path_StorySquad \u001b[39m=\u001b[39m os\u001b[39m.\u001b[39mpath\u001b[39m.\u001b[39mabspath(os\u001b[39m.\u001b[39;49mpath\u001b[39m.\u001b[39;49mjoin(os\u001b[39m.\u001b[39;49mgetenv(\u001b[39m\"\u001b[39;49m\u001b[39mLOCAL_PATH\u001b[39;49m\u001b[39m\"\u001b[39;49m), \u001b[39m\"\u001b[39;49m\u001b[39m..\u001b[39;49m\u001b[39m\"\u001b[39;49m,\u001b[39m\"\u001b[39;49m\u001b[39m..\u001b[39;49m\u001b[39m\"\u001b[39;49m))\n\u001b[1;32m     <a href='vscode-notebook-cell://wsl%2Bubuntu-20.04/home/hwan/code/aiProject/Tesseract_image_preprocessing_local.ipynb#W3sdnNjb2RlLXJlbW90ZQ%3D%3D?line=12'>13</a>\u001b[0m \u001b[39mprint\u001b[39m(out_path_StorySquad)\n",
      "File \u001b[0;32m/usr/lib/python3.8/posixpath.py:76\u001b[0m, in \u001b[0;36mjoin\u001b[0;34m(a, *p)\u001b[0m\n\u001b[1;32m     71\u001b[0m \u001b[39mdef\u001b[39;00m \u001b[39mjoin\u001b[39m(a, \u001b[39m*\u001b[39mp):\n\u001b[1;32m     72\u001b[0m \u001b[39m    \u001b[39m\u001b[39m\"\"\"Join two or more pathname components, inserting '/' as needed.\u001b[39;00m\n\u001b[1;32m     73\u001b[0m \u001b[39m    If any component is an absolute path, all previous path components\u001b[39;00m\n\u001b[1;32m     74\u001b[0m \u001b[39m    will be discarded.  An empty last part will result in a path that\u001b[39;00m\n\u001b[1;32m     75\u001b[0m \u001b[39m    ends with a separator.\"\"\"\u001b[39;00m\n\u001b[0;32m---> 76\u001b[0m     a \u001b[39m=\u001b[39m os\u001b[39m.\u001b[39;49mfspath(a)\n\u001b[1;32m     77\u001b[0m     sep \u001b[39m=\u001b[39m _get_sep(a)\n\u001b[1;32m     78\u001b[0m     path \u001b[39m=\u001b[39m a\n",
      "\u001b[0;31mTypeError\u001b[0m: expected str, bytes or os.PathLike object, not NoneType"
     ]
    }
   ],
   "source": [
    "dirpath = os.getcwd() #os abosulute current directory path\n",
    "print(\"This Directory\",dirpath)\n",
    "parentDirectory = os.path.dirname(dirpath)\n",
    "print(parentDirectory)\n",
    "GrandparentDirectory = os.path.dirname(parentDirectory)\n",
    "print(GrandparentDirectory)\n",
    "# bsolutepath = os.path.abspath(__file__) #os abosulute current file path\n",
    "# print(bsolutepath)\n",
    "print(os.path.abspath(os.path.join(os.getcwd(), '..')))\n",
    "out_path_myhand = os.getenv(\"LOCAL_PATH\")\n",
    "print(\"My_hand_Trained_data\",out_path_myhand)\n",
    "out_path_StorySquad = os.path.abspath(os.path.join(os.getenv(\"LOCAL_PATH\"), \"..\",\"..\"))\n",
    "print(out_path_StorySquad)"
   ]
  },
  {
   "cell_type": "code",
   "execution_count": 4,
   "metadata": {},
   "outputs": [],
   "source": [
    "ground_truth = \"เป็นมนุษย์สุดประเสริฐเลิศคุณค่า กว่าบรรดาฝูงสัตว์เดรัจฉาน\""
   ]
  },
  {
   "cell_type": "code",
   "execution_count": 11,
   "metadata": {},
   "outputs": [
    {
     "name": "stdout",
     "output_type": "stream",
     "text": [
      "ต /    ๑ ซู   |   |      ท    น\n",
      "ฝี้นมนุษยสุดประเส่ เดค์คุณา  กบรรดาผุง ร เดรจญ์น\n",
      "\f\n",
      "CER, WER, Rate : 47.36842105263158 106.66666666666667 46\n"
     ]
    }
   ],
   "source": [
    "image_name = '../y19_r31/r31-0003.png'\n",
    "image = cv2.imread(image_name)\n",
    "hypothesis0 = pytesseract.image_to_string(image,lang='tha',config=r'--tessdata-dir /usr/local/share/tessdata/')\n",
    "ce = cer(ground_truth, hypothesis0)\n",
    "we = wer(ground_truth, hypothesis0)\n",
    "fu = fuzz.ratio(ground_truth, hypothesis0)\n",
    "print(hypothesis0)\n",
    "print(\"CER, WER, Rate :\",ce,we,fu)\n"
   ]
  },
  {
   "cell_type": "code",
   "execution_count": 5,
   "metadata": {},
   "outputs": [
    {
     "name": "stdout",
     "output_type": "stream",
     "text": [
      "ground_truth :  เป็นมนุษย์สุดประเสริฐเลิศคุณค่า กว่าบรรดาฝูงสัตว์เดรัจฉาน\n",
      "ศ์\n",
      "\n",
      "บู  1   ณ%       ง           \"“\n",
      "ฝั้[ไม่ลอ๒ เดินโป งูเล้าจ% รู่ ได่ ขัง๒วก์ไจลลริ๑\n",
      "\f\n",
      "CER, WER, Rate : 96.49122807017544 140.0 7\n",
      "ฟาว วูค ด   กป เณ ดจะไม่ค่\n",
      "\n",
      "มลอยที่ยูฟัง กท ขั้นวาว เตฒาวิจ ๆค ขมกิน\n",
      "\f\n",
      "CER, WER, Rate : 80.70175438596492 133.33333333333334 19\n",
      "ข้เหนื่อ แผ้ป่ง  หม แฉดเดี้ซวข่าง ขิด0นมฆ่าง ไกข่า0\n",
      "ป                   ป\n",
      "\f\n",
      "CER, WER, Rate : 85.96491228070175 133.33333333333334 15\n",
      "“\n",
      "\n",
      "«<         ๓      ฆ %=-     --         7    ซู\n",
      "หุผิน ผล7าทภิดตี่คนาของนครงยสราวชขเทด ว็บโต๑๑ เศ นอปัน\n",
      ".   /\n",
      "\n",
      "1\n",
      "\n",
      "จ\n",
      "\f\n",
      "CER, WER, Rate : 115.78947368421052 133.33333333333334 11\n",
      "๒   ฯ ม   ๒   ซ่  ๓  ./   1\n",
      "แลวขบกวิทยาลัปวัฐ์ แบแฮๆเนย ฑิล์ฑ์ฐ์ พบปวๆ\n",
      "\f\n",
      "CER, WER, Rate : 82.45614035087719 100.0 11\n",
      "avg cer :  92.28070175438596\n",
      "avg wer :  128.00000000000003\n",
      "avg rate :  12.6\n"
     ]
    }
   ],
   "source": [
    "tessdata_dir_config = r'--tessdata-dir /usr/local/share/tessdata/'\n",
    "\n",
    "print(\"ground_truth : \", ground_truth)\n",
    "# Directory containing your images\n",
    "image_dir = '../y19_r31'\n",
    "sumCer = 0\n",
    "sumWer = 0\n",
    "Rate = 0\n",
    "# Get a list of image files in the directory\n",
    "image_files = [os.path.join(image_dir, filename) for filename in os.listdir(image_dir) if filename.endswith(('.jpg', '.jpeg', '.png', '.bmp'))]\n",
    "\n",
    "num_images_to_read = 5\n",
    "image_files = image_files[:num_images_to_read]\n",
    "\n",
    "# Loop through the image files and read each image\n",
    "for image_file in image_files:\n",
    "    # Read the image using OpenCV\n",
    "    image = cv2.imread(image_file)\n",
    "    \n",
    "\n",
    "    # Check if the image was successfully read\n",
    "    if image is not None:\n",
    "        # Process the image here, for example, display it\n",
    "        #pytesseract no preprocessing\n",
    "        hypothesis0 = pytesseract.image_to_string(image,lang='tha', config=tessdata_dir_config)\n",
    "        ce = cer(ground_truth, hypothesis0)\n",
    "        we = wer(ground_truth, hypothesis0)\n",
    "        fu = fuzz.ratio(ground_truth, hypothesis0)\n",
    "        print(hypothesis0)\n",
    "        print(\"CER, WER, Rate :\",ce,we,fu)\n",
    "        sumCer += ce\n",
    "        sumWer += we\n",
    "        Rate += fu\n",
    "    else:\n",
    "        print(f'Failed to read {image_file}')\n",
    "print(\"avg cer : \",sumCer/5)\n",
    "print(\"avg wer : \",sumWer/5)\n",
    "print(\"avg rate : \",Rate/5)"
   ]
  },
  {
   "cell_type": "code",
   "execution_count": 1,
   "metadata": {},
   "outputs": [
    {
     "ename": "NameError",
     "evalue": "name 'ground_truth' is not defined",
     "output_type": "error",
     "traceback": [
      "\u001b[0;31m---------------------------------------------------------------------------\u001b[0m",
      "\u001b[0;31mNameError\u001b[0m                                 Traceback (most recent call last)",
      "\u001b[1;32m/home/hwan/code/aiProject/Tesseract_image_preprocessing_local.ipynb Cell 7\u001b[0m line \u001b[0;36m1\n\u001b[0;32m----> <a href='vscode-notebook-cell://wsl%2Bubuntu-20.04/home/hwan/code/aiProject/Tesseract_image_preprocessing_local.ipynb#W6sdnNjb2RlLXJlbW90ZQ%3D%3D?line=0'>1</a>\u001b[0m \u001b[39mprint\u001b[39m(\u001b[39m\"\u001b[39m\u001b[39mground_truth : \u001b[39m\u001b[39m\"\u001b[39m, ground_truth)\n\u001b[1;32m      <a href='vscode-notebook-cell://wsl%2Bubuntu-20.04/home/hwan/code/aiProject/Tesseract_image_preprocessing_local.ipynb#W6sdnNjb2RlLXJlbW90ZQ%3D%3D?line=1'>2</a>\u001b[0m \u001b[39m# Directory containing your images\u001b[39;00m\n\u001b[1;32m      <a href='vscode-notebook-cell://wsl%2Bubuntu-20.04/home/hwan/code/aiProject/Tesseract_image_preprocessing_local.ipynb#W6sdnNjb2RlLXJlbW90ZQ%3D%3D?line=2'>3</a>\u001b[0m image_dir \u001b[39m=\u001b[39m \u001b[39m'\u001b[39m\u001b[39m../y19_r31\u001b[39m\u001b[39m'\u001b[39m\n",
      "\u001b[0;31mNameError\u001b[0m: name 'ground_truth' is not defined"
     ]
    }
   ],
   "source": [
    "print(\"ground_truth : \", ground_truth)\n",
    "# Directory containing your images\n",
    "image_dir = '../y19_r31'\n",
    "sumCer = 0\n",
    "sumWer = 0\n",
    "Rate = 0\n",
    "# Get a list of image files in the directory\n",
    "image_files = [os.path.join(image_dir, filename) for filename in os.listdir(image_dir) if filename.endswith(('.jpg', '.jpeg', '.png', '.bmp'))]\n",
    "\n",
    "num_images_to_read = 5\n",
    "image_files = image_files[:num_images_to_read]\n",
    "\n",
    "# Loop through the image files and read each image\n",
    "for image_file in image_files:\n",
    "    # Read the image using OpenCV\n",
    "    print(image_file)\n",
    "    image = cv2.imread(image_file)\n",
    "\n",
    "    # Check if the image was successfully read\n",
    "    if image is not None:\n",
    "        # Process the image here, for example, display it\n",
    "        #pytesseract no preprocessing\n",
    "        hypothesis0 = pytesseract.image_to_string(image,lang='tha')\n",
    "        ce = cer(ground_truth, hypothesis0)\n",
    "        we = wer(ground_truth, hypothesis0)\n",
    "        fu = fuzz.ratio(ground_truth, hypothesis0)\n",
    "        print(\"CER, WER, Rate :\",ce,we,fu)\n",
    "        print(hypothesis0)\n",
    "        sumCer += ce\n",
    "        sumWer += we\n",
    "        Rate += fu\n",
    "    else:\n",
    "        print(f'Failed to read {image_file}')\n",
    "print(\"avg cer : \",sumCer/5)\n",
    "print(\"avg wer : \",sumWer/5)\n",
    "print(\"avg rate : \",Rate/5)"
   ]
  },
  {
   "cell_type": "code",
   "execution_count": 7,
   "metadata": {},
   "outputs": [
    {
     "name": "stdout",
     "output_type": "stream",
     "text": [
      "เป้นฆ นยย์รดป๒เสรับสค้ตต่า  กดํา9ระ6๓ฝูงรไทร์ เดริ์จจวน\n",
      "\f\n"
     ]
    }
   ],
   "source": [
    "image_file = cv2.imread('../y19_r31/r31-0001.png')\n",
    "\n",
    "print(pytesseract.image_to_string(image_file,lang='tha'))"
   ]
  },
  {
   "cell_type": "markdown",
   "metadata": {},
   "source": []
  }
 ],
 "metadata": {
  "colab": {
   "name": "Tesseract image preprocessing.ipynb",
   "provenance": []
  },
  "kernelspec": {
   "display_name": "Python 3",
   "language": "python",
   "name": "python3"
  },
  "language_info": {
   "codemirror_mode": {
    "name": "ipython",
    "version": 3
   },
   "file_extension": ".py",
   "mimetype": "text/x-python",
   "name": "python",
   "nbconvert_exporter": "python",
   "pygments_lexer": "ipython3",
   "version": "3.8.10"
  }
 },
 "nbformat": 4,
 "nbformat_minor": 1
}
